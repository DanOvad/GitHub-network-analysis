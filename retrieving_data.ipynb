{
 "cells": [
  {
   "cell_type": "markdown",
   "metadata": {},
   "source": [
    "# Retrieving data from GitHub API v3"
   ]
  },
  {
   "cell_type": "code",
   "execution_count": 15,
   "metadata": {},
   "outputs": [],
   "source": [
    "import pandas as pd\n",
    "import requests\n",
    "import json"
   ]
  },
  {
   "cell_type": "markdown",
   "metadata": {},
   "source": [
    "Handful of functions to retrieve data?"
   ]
  },
  {
   "cell_type": "code",
   "execution_count": 57,
   "metadata": {},
   "outputs": [],
   "source": [
    "def github_request_user(user):\n",
    "    ''' Function to retrieve user details'''\n",
    "    \n",
    "    # url for get request \n",
    "    url = f'https://api.github.com/users/{user}'\n",
    "    \n",
    "    # make the get request\n",
    "    r = requests.get(url)\n",
    "    \n",
    "    # unpack and return\n",
    "    return json.loads(r.content)"
   ]
  },
  {
   "cell_type": "code",
   "execution_count": 58,
   "metadata": {},
   "outputs": [],
   "source": [
    "def github_request_following(user):\n",
    "    # url for get request \n",
    "    url = f'https://api.github.com/users/{user}/following'\n",
    "    \n",
    "    # make the get request\n",
    "    r = requests.get(url)\n",
    "    \n",
    "    # unpack and return\n",
    "    return json.loads(r.content)"
   ]
  },
  {
   "cell_type": "code",
   "execution_count": 64,
   "metadata": {},
   "outputs": [
    {
     "data": {
      "text/plain": [
       "{'login': 'DanOvad',\n",
       " 'id': 15237503,\n",
       " 'node_id': 'MDQ6VXNlcjE1MjM3NTAz',\n",
       " 'avatar_url': 'https://avatars3.githubusercontent.com/u/15237503?v=4',\n",
       " 'gravatar_id': '',\n",
       " 'url': 'https://api.github.com/users/DanOvad',\n",
       " 'html_url': 'https://github.com/DanOvad',\n",
       " 'followers_url': 'https://api.github.com/users/DanOvad/followers',\n",
       " 'following_url': 'https://api.github.com/users/DanOvad/following{/other_user}',\n",
       " 'gists_url': 'https://api.github.com/users/DanOvad/gists{/gist_id}',\n",
       " 'starred_url': 'https://api.github.com/users/DanOvad/starred{/owner}{/repo}',\n",
       " 'subscriptions_url': 'https://api.github.com/users/DanOvad/subscriptions',\n",
       " 'organizations_url': 'https://api.github.com/users/DanOvad/orgs',\n",
       " 'repos_url': 'https://api.github.com/users/DanOvad/repos',\n",
       " 'events_url': 'https://api.github.com/users/DanOvad/events{/privacy}',\n",
       " 'received_events_url': 'https://api.github.com/users/DanOvad/received_events',\n",
       " 'type': 'User',\n",
       " 'site_admin': False,\n",
       " 'name': 'Dan Ovadia',\n",
       " 'company': None,\n",
       " 'blog': 'linkedin.com/in/dan-ovadia',\n",
       " 'location': None,\n",
       " 'email': None,\n",
       " 'hireable': None,\n",
       " 'bio': 'Data Scientist/Engineer; Python, R, SQL, GCP; Worked in P&C Insurance as a Risk Analyst, Software Engineer, and Data Engineer; Hobbyist and data explorer.',\n",
       " 'twitter_username': None,\n",
       " 'public_repos': 15,\n",
       " 'public_gists': 0,\n",
       " 'followers': 3,\n",
       " 'following': 5,\n",
       " 'created_at': '2015-10-21T19:34:15Z',\n",
       " 'updated_at': '2020-09-06T17:38:33Z',\n",
       " 'following_users': ['yovadia',\n",
       "  'cooperdramsey',\n",
       "  'aailani',\n",
       "  'Wsauder',\n",
       "  'sjhawkes']}"
      ]
     },
     "execution_count": 64,
     "metadata": {},
     "output_type": "execute_result"
    }
   ],
   "source": [
    "following_list = github_request_following('danovad')\n",
    "following_users = [user['login'] for user in following_list]\n",
    "\n",
    "user_dict = github_request('danovad')\n",
    "user_dict['following_users'] = following_users\n",
    "user_dict"
   ]
  },
  {
   "cell_type": "code",
   "execution_count": 65,
   "metadata": {},
   "outputs": [
    {
     "data": {
      "text/plain": [
       "'https://api.github.com/users/DanOvad/starred{/owner}{/repo}'"
      ]
     },
     "execution_count": 65,
     "metadata": {},
     "output_type": "execute_result"
    }
   ],
   "source": [
    "user_dict['starred_url']"
   ]
  },
  {
   "cell_type": "code",
   "execution_count": 61,
   "metadata": {},
   "outputs": [],
   "source": [
    "user_dict['following_users']"
   ]
  },
  {
   "cell_type": "code",
   "execution_count": 62,
   "metadata": {},
   "outputs": [
    {
     "data": {
      "text/plain": [
       "{'danovad': ['yovadia', 'cooperdramsey', 'aailani', 'Wsauder', 'sjhawkes']}"
      ]
     },
     "execution_count": 62,
     "metadata": {},
     "output_type": "execute_result"
    }
   ],
   "source": [
    "following_dict"
   ]
  },
  {
   "cell_type": "code",
   "execution_count": null,
   "metadata": {},
   "outputs": [],
   "source": [
    "user: {list of users pointed to}, "
   ]
  },
  {
   "cell_type": "code",
   "execution_count": 49,
   "metadata": {},
   "outputs": [
    {
     "data": {
      "text/plain": [
       "{'login': 'Wsauder',\n",
       " 'id': 34780071,\n",
       " 'node_id': 'MDQ6VXNlcjM0NzgwMDcx',\n",
       " 'avatar_url': 'https://avatars3.githubusercontent.com/u/34780071?v=4',\n",
       " 'gravatar_id': '',\n",
       " 'url': 'https://api.github.com/users/Wsauder',\n",
       " 'html_url': 'https://github.com/Wsauder',\n",
       " 'followers_url': 'https://api.github.com/users/Wsauder/followers',\n",
       " 'following_url': 'https://api.github.com/users/Wsauder/following{/other_user}',\n",
       " 'gists_url': 'https://api.github.com/users/Wsauder/gists{/gist_id}',\n",
       " 'starred_url': 'https://api.github.com/users/Wsauder/starred{/owner}{/repo}',\n",
       " 'subscriptions_url': 'https://api.github.com/users/Wsauder/subscriptions',\n",
       " 'organizations_url': 'https://api.github.com/users/Wsauder/orgs',\n",
       " 'repos_url': 'https://api.github.com/users/Wsauder/repos',\n",
       " 'events_url': 'https://api.github.com/users/Wsauder/events{/privacy}',\n",
       " 'received_events_url': 'https://api.github.com/users/Wsauder/received_events',\n",
       " 'type': 'User',\n",
       " 'site_admin': False}"
      ]
     },
     "execution_count": 49,
     "metadata": {},
     "output_type": "execute_result"
    }
   ],
   "source": [
    "following_list[3]"
   ]
  },
  {
   "cell_type": "code",
   "execution_count": 40,
   "metadata": {},
   "outputs": [
    {
     "data": {
      "text/plain": [
       "{'login': 'DanOvad',\n",
       " 'id': 15237503,\n",
       " 'node_id': 'MDQ6VXNlcjE1MjM3NTAz',\n",
       " 'avatar_url': 'https://avatars3.githubusercontent.com/u/15237503?v=4',\n",
       " 'gravatar_id': '',\n",
       " 'url': 'https://api.github.com/users/DanOvad',\n",
       " 'html_url': 'https://github.com/DanOvad',\n",
       " 'followers_url': 'https://api.github.com/users/DanOvad/followers',\n",
       " 'following_url': 'https://api.github.com/users/DanOvad/following{/other_user}',\n",
       " 'gists_url': 'https://api.github.com/users/DanOvad/gists{/gist_id}',\n",
       " 'starred_url': 'https://api.github.com/users/DanOvad/starred{/owner}{/repo}',\n",
       " 'subscriptions_url': 'https://api.github.com/users/DanOvad/subscriptions',\n",
       " 'organizations_url': 'https://api.github.com/users/DanOvad/orgs',\n",
       " 'repos_url': 'https://api.github.com/users/DanOvad/repos',\n",
       " 'events_url': 'https://api.github.com/users/DanOvad/events{/privacy}',\n",
       " 'received_events_url': 'https://api.github.com/users/DanOvad/received_events',\n",
       " 'type': 'User',\n",
       " 'site_admin': False,\n",
       " 'name': 'Dan Ovadia',\n",
       " 'company': None,\n",
       " 'blog': 'linkedin.com/in/dan-ovadia',\n",
       " 'location': None,\n",
       " 'email': None,\n",
       " 'hireable': None,\n",
       " 'bio': 'Data Scientist/Engineer; Python, R, SQL, GCP; Worked in P&C Insurance as a Risk Analyst, Software Engineer, and Data Engineer; Hobbyist and data explorer.',\n",
       " 'twitter_username': None,\n",
       " 'public_repos': 15,\n",
       " 'public_gists': 0,\n",
       " 'followers': 3,\n",
       " 'following': 5,\n",
       " 'created_at': '2015-10-21T19:34:15Z',\n",
       " 'updated_at': '2020-09-06T17:38:33Z'}"
      ]
     },
     "execution_count": 40,
     "metadata": {},
     "output_type": "execute_result"
    }
   ],
   "source": [
    "following_list"
   ]
  },
  {
   "cell_type": "code",
   "execution_count": null,
   "metadata": {},
   "outputs": [],
   "source": []
  }
 ],
 "metadata": {
  "kernelspec": {
   "display_name": "Python 3",
   "language": "python",
   "name": "python3"
  },
  "language_info": {
   "codemirror_mode": {
    "name": "ipython",
    "version": 3
   },
   "file_extension": ".py",
   "mimetype": "text/x-python",
   "name": "python",
   "nbconvert_exporter": "python",
   "pygments_lexer": "ipython3",
   "version": "3.7.7"
  }
 },
 "nbformat": 4,
 "nbformat_minor": 4
}
