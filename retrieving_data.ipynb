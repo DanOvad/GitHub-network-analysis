{
 "cells": [
  {
   "cell_type": "markdown",
   "metadata": {},
   "source": [
    "# Retrieving data from GitHub API v3"
   ]
  },
  {
   "cell_type": "code",
   "execution_count": 135,
   "metadata": {},
   "outputs": [],
   "source": [
    "import pandas as pd\n",
    "import requests\n",
    "import json\n",
    "\n",
    "import os\n",
    "from modules import config"
   ]
  },
  {
   "cell_type": "code",
   "execution_count": 144,
   "metadata": {},
   "outputs": [],
   "source": [
    "# Establishing authentication\n",
    "username = 'danovad'\n",
    "token = config.GITHUB_TOKEN # Token coming from config.py"
   ]
  },
  {
   "cell_type": "code",
   "execution_count": 158,
   "metadata": {},
   "outputs": [
    {
     "data": {
      "text/plain": [
       "{'resources': {'core': {'limit': 5000,\n",
       "   'used': 134,\n",
       "   'remaining': 4866,\n",
       "   'reset': 1599500453},\n",
       "  'search': {'limit': 30, 'used': 0, 'remaining': 30, 'reset': 1599497258},\n",
       "  'graphql': {'limit': 5000,\n",
       "   'used': 0,\n",
       "   'remaining': 5000,\n",
       "   'reset': 1599500798},\n",
       "  'integration_manifest': {'limit': 5000,\n",
       "   'used': 0,\n",
       "   'remaining': 5000,\n",
       "   'reset': 1599500798},\n",
       "  'source_import': {'limit': 100,\n",
       "   'used': 0,\n",
       "   'remaining': 100,\n",
       "   'reset': 1599497258},\n",
       "  'code_scanning_upload': {'limit': 500,\n",
       "   'used': 0,\n",
       "   'remaining': 500,\n",
       "   'reset': 1599500798}},\n",
       " 'rate': {'limit': 5000, 'used': 134, 'remaining': 4866, 'reset': 1599500453}}"
      ]
     },
     "execution_count": 158,
     "metadata": {},
     "output_type": "execute_result"
    }
   ],
   "source": [
    "github_request_by_url(\"https://api.github.com/rate_limit\")"
   ]
  },
  {
   "cell_type": "code",
   "execution_count": 145,
   "metadata": {},
   "outputs": [
    {
     "data": {
      "text/plain": [
       "200"
      ]
     },
     "execution_count": 145,
     "metadata": {},
     "output_type": "execute_result"
    }
   ],
   "source": [
    "r = requests.get(\"https://api.github.com/rate_limit\", auth=(username,token))\n",
    "r.status_code"
   ]
  },
  {
   "cell_type": "code",
   "execution_count": 146,
   "metadata": {},
   "outputs": [
    {
     "data": {
      "text/plain": [
       "{'resources': {'core': {'limit': 5000,\n",
       "   'used': 0,\n",
       "   'remaining': 5000,\n",
       "   'reset': 1599500302},\n",
       "  'search': {'limit': 30, 'used': 0, 'remaining': 30, 'reset': 1599496762},\n",
       "  'graphql': {'limit': 5000,\n",
       "   'used': 0,\n",
       "   'remaining': 5000,\n",
       "   'reset': 1599500302},\n",
       "  'integration_manifest': {'limit': 5000,\n",
       "   'used': 0,\n",
       "   'remaining': 5000,\n",
       "   'reset': 1599500302},\n",
       "  'source_import': {'limit': 100,\n",
       "   'used': 0,\n",
       "   'remaining': 100,\n",
       "   'reset': 1599496762},\n",
       "  'code_scanning_upload': {'limit': 500,\n",
       "   'used': 0,\n",
       "   'remaining': 500,\n",
       "   'reset': 1599500302}},\n",
       " 'rate': {'limit': 5000, 'used': 0, 'remaining': 5000, 'reset': 1599500302}}"
      ]
     },
     "execution_count": 146,
     "metadata": {},
     "output_type": "execute_result"
    }
   ],
   "source": [
    "json.loads(r.content)"
   ]
  },
  {
   "cell_type": "markdown",
   "metadata": {},
   "source": [
    "Handful of functions to retrieve data?"
   ]
  },
  {
   "cell_type": "code",
   "execution_count": 147,
   "metadata": {},
   "outputs": [],
   "source": [
    "def github_request(user, endpoint = None):\n",
    "    ''' Function to retrieve user details.\n",
    "    If endpoint = None, then it will retrieve user info. \n",
    "    If endpoint is set to \n",
    "    \"following\", \n",
    "    \"followers\", \n",
    "    \"repos\", \n",
    "    \"subscriptions\",\n",
    "    \"events\", etc it will handle those requests as such. '''\n",
    "    # url for get request \n",
    "    if endpoint is not None:\n",
    "        url = f'https://api.github.com/users/{user}/{endpoint}'\n",
    "        print(f\"Requesting {url}\")\n",
    "    else:\n",
    "        url = f'https://api.github.com/users/{user}'\n",
    "        print(f\"Requesting {url}\")\n",
    "    \n",
    "    # make the get request\n",
    "    r = requests.get(url, auth=(username,token))\n",
    "    if r.status_code != 200:\n",
    "        print(\"Something went wrong.\")\n",
    "    # unpack and return\n",
    "    return json.loads(r.content)"
   ]
  },
  {
   "cell_type": "code",
   "execution_count": 148,
   "metadata": {},
   "outputs": [],
   "source": [
    "def github_request_by_url(url):\n",
    "    # make the get request\n",
    "    r = requests.get(url, auth=(username,token))\n",
    "    \n",
    "    # unpack and return\n",
    "    return json.loads(r.content)"
   ]
  },
  {
   "cell_type": "code",
   "execution_count": 103,
   "metadata": {},
   "outputs": [],
   "source": [
    "users_list = []\n",
    "\n",
    "user_details_dict = github_request('danovad')\n",
    "#user_following_list = github_request('danovad', endpoint = 'following')\n",
    "user_details_dict['following'] = [user['login'] for user in github_request('danovad', endpoint = 'following')]\n",
    "\n",
    "users_list.append(user_details_dict)"
   ]
  },
  {
   "cell_type": "code",
   "execution_count": 154,
   "metadata": {},
   "outputs": [],
   "source": [
    "def generate_user_details_dict(user):\n",
    "    ''' Function generates a dictionary for a specific user. \n",
    "    \n",
    "    This combines user details and users following.'''\n",
    "    \n",
    "    # First we need to get the users details\n",
    "    user_details_dict = github_request(user)\n",
    "\n",
    "    # Add user_following_list login names to user_details_dict as a key:value pair (login:list of logins)\n",
    "    user_details_dict['following_users'] = [user['login'] for user in github_request(user, endpoint = 'following')]\n",
    "    user_details_dict['followers_users'] = [user['login'] for user in github_request(user, endpoint = 'followers')]\n",
    "    \n",
    "    return user_details_dict"
   ]
  },
  {
   "cell_type": "code",
   "execution_count": 111,
   "metadata": {},
   "outputs": [],
   "source": [
    "a = generate_user_details_dict('danovad')"
   ]
  },
  {
   "cell_type": "code",
   "execution_count": 128,
   "metadata": {},
   "outputs": [
    {
     "data": {
      "text/plain": [
       "['pjreddie',\n",
       " 'yovadia',\n",
       " 'josephofiowa',\n",
       " 'tomerovadia',\n",
       " 'matthewbrems',\n",
       " 'cooperdramsey',\n",
       " 'aailani',\n",
       " 'Wsauder',\n",
       " 'sjhawkes',\n",
       " 'scaress21']"
      ]
     },
     "execution_count": 128,
     "metadata": {},
     "output_type": "execute_result"
    }
   ],
   "source": [
    "a['following_users']"
   ]
  },
  {
   "cell_type": "code",
   "execution_count": 130,
   "metadata": {},
   "outputs": [],
   "source": [
    "def return_following_details_list(user):\n",
    "    users_details_list = []\n",
    "    users_details_list.append(generate_user_details_dict(user))\n",
    "    \n",
    "    # Loop over all users following and generate their own user details dictionaries.\n",
    "    for fol_user in users_details_list[0]['following_users']:\n",
    "        print(fol_user)\n",
    "        users_details_list.append(generate_user_details_dict(fol_user))\n",
    "        \n",
    "    return users_details_list"
   ]
  },
  {
   "cell_type": "code",
   "execution_count": null,
   "metadata": {},
   "outputs": [],
   "source": [
    "github_request_by_url('https://api.github.com/users/danovad')"
   ]
  },
  {
   "cell_type": "code",
   "execution_count": 157,
   "metadata": {},
   "outputs": [
    {
     "name": "stdout",
     "output_type": "stream",
     "text": [
      "Requesting https://api.github.com/users/danovad\n",
      "Requesting https://api.github.com/users/danovad/following\n",
      "Requesting https://api.github.com/users/danovad/followers\n",
      "pjreddie\n",
      "Requesting https://api.github.com/users/pjreddie\n",
      "Requesting https://api.github.com/users/pjreddie/following\n",
      "Requesting https://api.github.com/users/pjreddie/followers\n",
      "yovadia\n",
      "Requesting https://api.github.com/users/yovadia\n",
      "Requesting https://api.github.com/users/yovadia/following\n",
      "Requesting https://api.github.com/users/yovadia/followers\n",
      "josephofiowa\n",
      "Requesting https://api.github.com/users/josephofiowa\n",
      "Requesting https://api.github.com/users/josephofiowa/following\n",
      "Requesting https://api.github.com/users/josephofiowa/followers\n",
      "tomerovadia\n",
      "Requesting https://api.github.com/users/tomerovadia\n",
      "Requesting https://api.github.com/users/tomerovadia/following\n",
      "Requesting https://api.github.com/users/tomerovadia/followers\n",
      "matthewbrems\n",
      "Requesting https://api.github.com/users/matthewbrems\n",
      "Requesting https://api.github.com/users/matthewbrems/following\n",
      "Requesting https://api.github.com/users/matthewbrems/followers\n",
      "cooperdramsey\n",
      "Requesting https://api.github.com/users/cooperdramsey\n",
      "Requesting https://api.github.com/users/cooperdramsey/following\n",
      "Requesting https://api.github.com/users/cooperdramsey/followers\n",
      "aailani\n",
      "Requesting https://api.github.com/users/aailani\n",
      "Requesting https://api.github.com/users/aailani/following\n",
      "Requesting https://api.github.com/users/aailani/followers\n",
      "Wsauder\n",
      "Requesting https://api.github.com/users/Wsauder\n",
      "Requesting https://api.github.com/users/Wsauder/following\n",
      "Requesting https://api.github.com/users/Wsauder/followers\n",
      "sjhawkes\n",
      "Requesting https://api.github.com/users/sjhawkes\n",
      "Requesting https://api.github.com/users/sjhawkes/following\n",
      "Requesting https://api.github.com/users/sjhawkes/followers\n",
      "scaress21\n",
      "Requesting https://api.github.com/users/scaress21\n",
      "Requesting https://api.github.com/users/scaress21/following\n",
      "Requesting https://api.github.com/users/scaress21/followers\n"
     ]
    }
   ],
   "source": [
    "users_details_list = return_following_details_list('danovad')"
   ]
  },
  {
   "cell_type": "code",
   "execution_count": 161,
   "metadata": {},
   "outputs": [
    {
     "data": {
      "text/plain": [
       "{'login': 'josephofiowa',\n",
       " 'id': 13970811,\n",
       " 'node_id': 'MDQ6VXNlcjEzOTcwODEx',\n",
       " 'avatar_url': 'https://avatars3.githubusercontent.com/u/13970811?v=4',\n",
       " 'gravatar_id': '',\n",
       " 'url': 'https://api.github.com/users/josephofiowa',\n",
       " 'html_url': 'https://github.com/josephofiowa',\n",
       " 'followers_url': 'https://api.github.com/users/josephofiowa/followers',\n",
       " 'following_url': 'https://api.github.com/users/josephofiowa/following{/other_user}',\n",
       " 'gists_url': 'https://api.github.com/users/josephofiowa/gists{/gist_id}',\n",
       " 'starred_url': 'https://api.github.com/users/josephofiowa/starred{/owner}{/repo}',\n",
       " 'subscriptions_url': 'https://api.github.com/users/josephofiowa/subscriptions',\n",
       " 'organizations_url': 'https://api.github.com/users/josephofiowa/orgs',\n",
       " 'repos_url': 'https://api.github.com/users/josephofiowa/repos',\n",
       " 'events_url': 'https://api.github.com/users/josephofiowa/events{/privacy}',\n",
       " 'received_events_url': 'https://api.github.com/users/josephofiowa/received_events',\n",
       " 'type': 'User',\n",
       " 'site_admin': False,\n",
       " 'name': 'Joseph Nelson',\n",
       " 'company': None,\n",
       " 'blog': 'https://www.josephofiowa.com/',\n",
       " 'location': 'Washington, DC',\n",
       " 'email': 'joseph@roboflow.ai',\n",
       " 'hireable': None,\n",
       " 'bio': 'merges his own PRs',\n",
       " 'twitter_username': None,\n",
       " 'public_repos': 61,\n",
       " 'public_gists': 1,\n",
       " 'followers': 146,\n",
       " 'following': 8,\n",
       " 'created_at': '2015-08-25T21:29:31Z',\n",
       " 'updated_at': '2020-08-25T12:41:31Z',\n",
       " 'following_users': ['yuvipanda',\n",
       "  'jsvine',\n",
       "  'dgrtwo',\n",
       "  'cmoscardi',\n",
       "  'choldgraf',\n",
       "  'kstats',\n",
       "  'honnibal',\n",
       "  'mmargenot'],\n",
       " 'followers_users': ['kstats',\n",
       "  'yeyaum',\n",
       "  'ByronKKing',\n",
       "  'josephhaaga',\n",
       "  'aahmd',\n",
       "  'oneilltp18',\n",
       "  'MichalPaszkiewicz',\n",
       "  'cl65610',\n",
       "  'charlesmrice',\n",
       "  'XiusiMa',\n",
       "  'bertranddol',\n",
       "  'matthewbrems',\n",
       "  'timurmukhtarov',\n",
       "  'JacobCoblentz',\n",
       "  'LocalMicro',\n",
       "  'tinglesby87',\n",
       "  'timreggev',\n",
       "  'Tmodurr',\n",
       "  'savinay1986',\n",
       "  'eharting',\n",
       "  'JBed',\n",
       "  'jarrydfillmore',\n",
       "  'mahmoudparsian',\n",
       "  'lnchbx13',\n",
       "  'yenework',\n",
       "  'futurikidis21',\n",
       "  'richwu',\n",
       "  'marisarh13',\n",
       "  'Gboni0057',\n",
       "  'lab176']}"
      ]
     },
     "execution_count": 161,
     "metadata": {},
     "output_type": "execute_result"
    }
   ],
   "source": [
    "users_details_list[3]"
   ]
  },
  {
   "cell_type": "code",
   "execution_count": null,
   "metadata": {},
   "outputs": [],
   "source": []
  },
  {
   "cell_type": "code",
   "execution_count": null,
   "metadata": {},
   "outputs": [],
   "source": []
  },
  {
   "cell_type": "code",
   "execution_count": null,
   "metadata": {},
   "outputs": [],
   "source": [
    "features = ['login','id','type','followers','following','public_repos','bio','updated_at','created_at']"
   ]
  },
  {
   "cell_type": "code",
   "execution_count": null,
   "metadata": {},
   "outputs": [],
   "source": []
  }
 ],
 "metadata": {
  "kernelspec": {
   "display_name": "Python 3",
   "language": "python",
   "name": "python3"
  },
  "language_info": {
   "codemirror_mode": {
    "name": "ipython",
    "version": 3
   },
   "file_extension": ".py",
   "mimetype": "text/x-python",
   "name": "python",
   "nbconvert_exporter": "python",
   "pygments_lexer": "ipython3",
   "version": "3.7.7"
  }
 },
 "nbformat": 4,
 "nbformat_minor": 4
}
