{
 "cells": [
  {
   "cell_type": "markdown",
   "metadata": {},
   "source": [
    "# Retrieving data from GitHub API v3"
   ]
  },
  {
   "cell_type": "code",
   "execution_count": 31,
   "metadata": {},
   "outputs": [],
   "source": [
    "import pandas as pd\n",
    "import requests\n",
    "import json\n",
    "import networkx as nx\n",
    "\n",
    "import os\n",
    "\n",
    "from modules import config\n",
    "from modules import plotting\n",
    "\n",
    "# Extension to auto reload custom modules\n",
    "%load_ext autoreload\n",
    "\n",
    "%autoreload 1\n",
    "\n",
    "%aimport modules.plotting"
   ]
  },
  {
   "cell_type": "code",
   "execution_count": 2,
   "metadata": {},
   "outputs": [],
   "source": [
    "# Establishing authentication\n",
    "username = 'danovad'\n",
    "token = config.GITHUB_TOKEN # Token coming from config.py"
   ]
  },
  {
   "cell_type": "markdown",
   "metadata": {},
   "source": [
    "Issuing a request to retrieve API rate limit."
   ]
  },
  {
   "cell_type": "code",
   "execution_count": 129,
   "metadata": {
    "collapsed": true,
    "jupyter": {
     "outputs_hidden": true,
     "source_hidden": true
    }
   },
   "outputs": [
    {
     "data": {
      "text/plain": [
       "{'resources': {'core': {'limit': 5000,\n",
       "   'used': 5,\n",
       "   'remaining': 4995,\n",
       "   'reset': 1599536422},\n",
       "  'search': {'limit': 30, 'used': 0, 'remaining': 30, 'reset': 1599532894},\n",
       "  'graphql': {'limit': 5000,\n",
       "   'used': 0,\n",
       "   'remaining': 5000,\n",
       "   'reset': 1599536434},\n",
       "  'integration_manifest': {'limit': 5000,\n",
       "   'used': 0,\n",
       "   'remaining': 5000,\n",
       "   'reset': 1599536434},\n",
       "  'source_import': {'limit': 100,\n",
       "   'used': 0,\n",
       "   'remaining': 100,\n",
       "   'reset': 1599532894},\n",
       "  'code_scanning_upload': {'limit': 500,\n",
       "   'used': 0,\n",
       "   'remaining': 500,\n",
       "   'reset': 1599536434}},\n",
       " 'rate': {'limit': 5000, 'used': 5, 'remaining': 4995, 'reset': 1599536422}}"
      ]
     },
     "execution_count": 129,
     "metadata": {},
     "output_type": "execute_result"
    }
   ],
   "source": [
    "r = requests.get(\"https://api.github.com/rate_limit\", auth=(username,token))\n",
    "r.status_code\n",
    "\n",
    "json.loads(r.content)"
   ]
  },
  {
   "cell_type": "markdown",
   "metadata": {},
   "source": [
    "`def github_request_by_url(url):`"
   ]
  },
  {
   "cell_type": "code",
   "execution_count": 7,
   "metadata": {
    "jupyter": {
     "source_hidden": true
    }
   },
   "outputs": [],
   "source": [
    "def github_request_by_url(url):\n",
    "    # make the get request\n",
    "    r = requests.get(url, auth=(username,token))\n",
    "    \n",
    "    # unpack and return\n",
    "    return json.loads(r.content)"
   ]
  },
  {
   "cell_type": "markdown",
   "metadata": {},
   "source": [
    "Handful of functions to retrieve data"
   ]
  },
  {
   "cell_type": "markdown",
   "metadata": {},
   "source": [
    "`def github_request(user, endpoint=None)`"
   ]
  },
  {
   "cell_type": "code",
   "execution_count": 58,
   "metadata": {
    "jupyter": {
     "source_hidden": true
    }
   },
   "outputs": [],
   "source": [
    "def github_request(userlist, endpoint = None):\n",
    "    ''' Function to retrieve user details.\n",
    "    If endpoint = None, then it will retrieve user info. \n",
    "    If endpoint is set to \n",
    "    \"following\", \n",
    "    \"followers\", \n",
    "    \"repos\", \n",
    "    \"subscriptions\",\n",
    "    \"events\", etc it will handle those requests as such. '''\n",
    "    if endpoint is not None:\n",
    "        url = f'https://api.github.com/users/{user}/{endpoint}'\n",
    "        #print(f\"Requesting {url}\")\n",
    "    else:\n",
    "        url = f'https://api.github.com/users/{user}'\n",
    "        print(f\"Requesting {url}\")\n",
    "    \n",
    "    # make the get request\n",
    "    r = requests.get(url, auth=(username,token))\n",
    "    if r.status_code != 200:\n",
    "        print(\"Something went wrong.\")\n",
    "    # unpack and return\n",
    "    return json.loads(r.content)"
   ]
  },
  {
   "cell_type": "markdown",
   "metadata": {},
   "source": [
    "<pre><code>def generate_user_details_dict(user):\n",
    "    ''' \n",
    "    Function generates a dictionary for a specific user. \n",
    "    \n",
    "    This combines user details and users following.\n",
    "    '''</code></pre>"
   ]
  },
  {
   "cell_type": "code",
   "execution_count": 13,
   "metadata": {},
   "outputs": [],
   "source": [
    "def generate_user_details_dict(user):\n",
    "    ''' Function generates a dictionary for a specific user. \n",
    "    \n",
    "    This combines user details and users following.'''\n",
    "    \n",
    "    # First we need to get the users details\n",
    "    user_details_dict = github_request(user)\n",
    "\n",
    "    # Add user_following_list login names to user_details_dict as a key:value pair (login:list of logins)\n",
    "    user_details_dict['following_users'] = [user['login'] for user in github_request(user, endpoint = 'following')]\n",
    "    user_details_dict['followers_users'] = [user['login'] for user in github_request(user, endpoint = 'followers')]\n",
    "    \n",
    "    return user_details_dict"
   ]
  },
  {
   "cell_type": "code",
   "execution_count": 127,
   "metadata": {},
   "outputs": [],
   "source": [
    "def get_userlist_details(userlist):\n",
    "    '''\n",
    "    For a list of users, return a list of dictionaries, \n",
    "    with their resulting details.\n",
    "    '''\n",
    "    users_details_list = []\n",
    "    for user in userlist:\n",
    "        users_details_list.append(generate_user_details_dict(user))\n",
    "    \n",
    "    return users_details_list\n",
    "    "
   ]
  },
  {
   "cell_type": "code",
   "execution_count": 132,
   "metadata": {},
   "outputs": [],
   "source": [
    "a = get_userlist_details(['danovad','tomerovadia','cooperdramsey'])"
   ]
  },
  {
   "cell_type": "code",
   "execution_count": 136,
   "metadata": {
    "collapsed": true,
    "jupyter": {
     "outputs_hidden": true
    }
   },
   "outputs": [
    {
     "data": {
      "text/plain": [
       "[['pjreddie',\n",
       "  'yovadia',\n",
       "  'josephofiowa',\n",
       "  'tomerovadia',\n",
       "  'matthewbrems',\n",
       "  'cooperdramsey',\n",
       "  'aailani',\n",
       "  'Wsauder',\n",
       "  'sjhawkes',\n",
       "  'scaress21'],\n",
       " ['mbostock',\n",
       "  'tbeck',\n",
       "  'ruggeri',\n",
       "  'emilyschultz',\n",
       "  'hellochitty',\n",
       "  'plupinska',\n",
       "  'carlbaron',\n",
       "  'composerinteralia',\n",
       "  'amplesample',\n",
       "  'tbuchannan',\n",
       "  'paskhaver',\n",
       "  'DanOvad',\n",
       "  'Cirakuze',\n",
       "  'rsa2135',\n",
       "  'taekyunggg',\n",
       "  'ayellapragada',\n",
       "  'abseee',\n",
       "  'MichaelMCoates',\n",
       "  'christinewang319',\n",
       "  'WilsonMinFong',\n",
       "  'dallaswmorgan',\n",
       "  'parkjphilip',\n",
       "  'pauliewax',\n",
       "  'RoyceJH',\n",
       "  'madelineleclair',\n",
       "  'jon-lin',\n",
       "  'cmakow',\n",
       "  'mbryantramirez',\n",
       "  'vonbarown'],\n",
       " ['Sintrastes', 'samestep', 'DanOvad', 'tomerovadia', 'mbr4477']]"
      ]
     },
     "execution_count": 136,
     "metadata": {},
     "output_type": "execute_result"
    }
   ],
   "source": [
    "[user['following_users'] for user in a]"
   ]
  },
  {
   "cell_type": "code",
   "execution_count": null,
   "metadata": {},
   "outputs": [],
   "source": [
    "def get_following_userlist(userlist):\n",
    "    '''Get a unique list of following users from a list of users'''\n",
    "    \n",
    "    for user in userlist:\n",
    "        generate_user_details_dict(user)"
   ]
  },
  {
   "cell_type": "code",
   "execution_count": 187,
   "metadata": {},
   "outputs": [],
   "source": [
    "def return_following_details_list(user):\n",
    "    '''\n",
    "    Function generates a list of dictionaries. \n",
    "    '''\n",
    "    users_details_list = []\n",
    "    users_login_set = set(user)\n",
    "    users_details_list.append(generate_user_details_dict(user))\n",
    "    \n",
    "    # Loop over all users following and generate their own user details dictionaries.\n",
    "    for fol_user in users_details_list[0]['following_users']:\n",
    "        print(fol_user)\n",
    "        users_login_set.add(fol_user)\n",
    "        users_details_list.append(generate_user_details_dict(fol_user))    \n",
    "        \n",
    "    #new_following_users = set().add([user_details['following_users'] for user_details in users_details_list])\n",
    "    #unique_new_users = users_login_set.difference(new_following_users)\n",
    "    \n",
    "    \n",
    "    return users_details_list, unique_new_users"
   ]
  },
  {
   "cell_type": "code",
   "execution_count": 186,
   "metadata": {},
   "outputs": [
    {
     "name": "stdout",
     "output_type": "stream",
     "text": [
      "pjreddie\n",
      "yovadia\n",
      "josephofiowa\n",
      "tomerovadia\n",
      "matthewbrems\n",
      "cooperdramsey\n",
      "aailani\n",
      "Wsauder\n",
      "sjhawkes\n",
      "scaress21\n"
     ]
    },
    {
     "ename": "TypeError",
     "evalue": "unhashable type: 'list'",
     "output_type": "error",
     "traceback": [
      "\u001b[0;31m---------------------------------------------------------------------------\u001b[0m",
      "\u001b[0;31mTypeError\u001b[0m                                 Traceback (most recent call last)",
      "\u001b[0;32m<ipython-input-186-1bfa3c1e7d63>\u001b[0m in \u001b[0;36m<module>\u001b[0;34m\u001b[0m\n\u001b[0;32m----> 1\u001b[0;31m \u001b[0musers_details_list\u001b[0m\u001b[0;34m,\u001b[0m \u001b[0munique_new_users\u001b[0m \u001b[0;34m=\u001b[0m \u001b[0mreturn_following_details_list\u001b[0m\u001b[0;34m(\u001b[0m\u001b[0;34m'danovad'\u001b[0m\u001b[0;34m)\u001b[0m\u001b[0;34m\u001b[0m\u001b[0;34m\u001b[0m\u001b[0m\n\u001b[0m",
      "\u001b[0;32m<ipython-input-185-9359a225288b>\u001b[0m in \u001b[0;36mreturn_following_details_list\u001b[0;34m(user)\u001b[0m\n\u001b[1;32m     13\u001b[0m         \u001b[0musers_details_list\u001b[0m\u001b[0;34m.\u001b[0m\u001b[0mappend\u001b[0m\u001b[0;34m(\u001b[0m\u001b[0mgenerate_user_details_dict\u001b[0m\u001b[0;34m(\u001b[0m\u001b[0mfol_user\u001b[0m\u001b[0;34m)\u001b[0m\u001b[0;34m)\u001b[0m\u001b[0;34m\u001b[0m\u001b[0;34m\u001b[0m\u001b[0m\n\u001b[1;32m     14\u001b[0m \u001b[0;34m\u001b[0m\u001b[0m\n\u001b[0;32m---> 15\u001b[0;31m     \u001b[0mnew_following_users\u001b[0m \u001b[0;34m=\u001b[0m \u001b[0mset\u001b[0m\u001b[0;34m(\u001b[0m\u001b[0;34m)\u001b[0m\u001b[0;34m.\u001b[0m\u001b[0madd\u001b[0m\u001b[0;34m(\u001b[0m\u001b[0;34m[\u001b[0m\u001b[0muser_details\u001b[0m\u001b[0;34m[\u001b[0m\u001b[0;34m'following_users'\u001b[0m\u001b[0;34m]\u001b[0m \u001b[0;32mfor\u001b[0m \u001b[0muser_details\u001b[0m \u001b[0;32min\u001b[0m \u001b[0musers_details_list\u001b[0m\u001b[0;34m]\u001b[0m\u001b[0;34m)\u001b[0m\u001b[0;34m\u001b[0m\u001b[0;34m\u001b[0m\u001b[0m\n\u001b[0m\u001b[1;32m     16\u001b[0m     \u001b[0munique_new_users\u001b[0m \u001b[0;34m=\u001b[0m \u001b[0musers_login_set\u001b[0m\u001b[0;34m.\u001b[0m\u001b[0mdifference\u001b[0m\u001b[0;34m(\u001b[0m\u001b[0mnew_following_users\u001b[0m\u001b[0;34m)\u001b[0m\u001b[0;34m\u001b[0m\u001b[0;34m\u001b[0m\u001b[0m\n\u001b[1;32m     17\u001b[0m \u001b[0;34m\u001b[0m\u001b[0m\n",
      "\u001b[0;31mTypeError\u001b[0m: unhashable type: 'list'"
     ]
    }
   ],
   "source": [
    "users_details_list, unique_new_users = return_following_details_list('danovad')"
   ]
  },
  {
   "cell_type": "code",
   "execution_count": 178,
   "metadata": {},
   "outputs": [
    {
     "data": {
      "text/plain": [
       "{'a', 'd', 'n', 'o', 'v'}"
      ]
     },
     "execution_count": 178,
     "metadata": {},
     "output_type": "execute_result"
    }
   ],
   "source": [
    "unique_new_users"
   ]
  },
  {
   "cell_type": "code",
   "execution_count": 80,
   "metadata": {},
   "outputs": [],
   "source": [
    "# Generating a dictionary of user to following users for networkX graphs\n",
    "network_nodes = {user['login']:user['following_users'] for user in users_details_list}\n",
    "network_labels = {user['login']:user['login'] for user in users_details_list}\n",
    "network_following_count = {user['login']:user['following'] for user in users_details_list}"
   ]
  },
  {
   "cell_type": "code",
   "execution_count": 145,
   "metadata": {},
   "outputs": [
    {
     "name": "stdout",
     "output_type": "stream",
     "text": [
      "pjreddie\n",
      "yovadia\n",
      "josephofiowa\n",
      "tomerovadia\n",
      "matthewbrems\n",
      "cooperdramsey\n",
      "aailani\n",
      "Wsauder\n",
      "sjhawkes\n",
      "scaress21\n"
     ]
    }
   ],
   "source": [
    "first = return_following_details_list('danovad')"
   ]
  },
  {
   "cell_type": "code",
   "execution_count": 155,
   "metadata": {},
   "outputs": [],
   "source": [
    "test = list()\n",
    "#test.extend([user['following_users'] for user in first])\n",
    "test\n",
    "\n",
    "for user in first:\n",
    "    test.extend(user['following_users'])\n",
    "test = set(test)\n",
    "test\n",
    "\n",
    "a = set(['DanOvad',\n",
    " 'MichaelMCoates',\n",
    " 'RoyceJH',\n",
    " 'Sintrastes',\n",
    " 'WilsonMinFong',\n",
    " 'Wsauder'])"
   ]
  },
  {
   "cell_type": "code",
   "execution_count": 173,
   "metadata": {},
   "outputs": [],
   "source": [
    "a = set([1,2,3, 5, 6])\n",
    "b = set([4,5,6,7])"
   ]
  },
  {
   "cell_type": "code",
   "execution_count": 174,
   "metadata": {},
   "outputs": [
    {
     "data": {
      "text/plain": [
       "{5, 6}"
      ]
     },
     "execution_count": 174,
     "metadata": {},
     "output_type": "execute_result"
    }
   ],
   "source": [
    "a.intersection(b)"
   ]
  },
  {
   "cell_type": "code",
   "execution_count": 175,
   "metadata": {},
   "outputs": [
    {
     "data": {
      "text/plain": [
       "{4, 7}"
      ]
     },
     "execution_count": 175,
     "metadata": {},
     "output_type": "execute_result"
    }
   ],
   "source": [
    "b.difference(a)"
   ]
  },
  {
   "cell_type": "code",
   "execution_count": 167,
   "metadata": {},
   "outputs": [
    {
     "data": {
      "text/plain": [
       "{4, 7}"
      ]
     },
     "execution_count": 167,
     "metadata": {},
     "output_type": "execute_result"
    }
   ],
   "source": [
    "b.difference(a)"
   ]
  },
  {
   "cell_type": "code",
   "execution_count": 162,
   "metadata": {},
   "outputs": [
    {
     "data": {
      "text/plain": [
       "{'DanOvad'}"
      ]
     },
     "execution_count": 162,
     "metadata": {},
     "output_type": "execute_result"
    }
   ],
   "source": [
    "a.difference(test)"
   ]
  },
  {
   "cell_type": "markdown",
   "metadata": {},
   "source": [
    "## Generating NetworkX Graphs\n",
    "\n",
    "Now that we have functions for:\n",
    "1. Getting user details\n",
    "2. Getting a user's following list\n",
    "3. Get details on a users following list"
   ]
  },
  {
   "cell_type": "code",
   "execution_count": 116,
   "metadata": {},
   "outputs": [],
   "source": [
    "def generate_DiGraph(users_details_list):\n",
    "    # instantiate the graph\n",
    "    G = nx.DiGraph(network_nodes)\n",
    "    # Calculate positions\n",
    "    pos = nx.drawing.layout.kamada_kawai_layout(G)\n",
    "    \n",
    "    # Set attributes\n",
    "    nx.set_node_attributes(G, \n",
    "        name='pos',\n",
    "        values=pos\n",
    "    )\n",
    "    nx.set_node_attributes(G,\n",
    "        name='user',\n",
    "        values={user['login']:user['login'] for user in users_details_list}\n",
    "    )\n",
    "    nx.set_node_attributes(G,\n",
    "        name='following_count',\n",
    "        values={user['login']:user['following'] for user in users_details_list}\n",
    "    )\n",
    "    return G"
   ]
  },
  {
   "cell_type": "code",
   "execution_count": 117,
   "metadata": {},
   "outputs": [],
   "source": [
    "g = generate_DiGraph(users_details_list)"
   ]
  },
  {
   "cell_type": "code",
   "execution_count": 124,
   "metadata": {},
   "outputs": [
    {
     "data": {
      "text/plain": [
       "('DanOvad',\n",
       " {'pos': array([0.3723582 , 0.26859894]),\n",
       "  'user': 'DanOvad',\n",
       "  'following_count': 10})"
      ]
     },
     "execution_count": 124,
     "metadata": {},
     "output_type": "execute_result"
    }
   ],
   "source": [
    "list(G.nodes(data=True))[0]"
   ]
  },
  {
   "cell_type": "code",
   "execution_count": 118,
   "metadata": {},
   "outputs": [
    {
     "data": {
      "image/png": "[encoded data removed]",
      "text/plain": [
       "<Figure size 432x288 with 1 Axes>"
      ]
     },
     "execution_count": 118,
     "metadata": {},
     "output_type": "execute_result"
    }
   ],
   "source": [
    "plotting.mpl_nx_graph(g)"
   ]
  },
  {
   "cell_type": "code",
   "execution_count": 126,
   "metadata": {},
   "outputs": [
    {
     "data": {
      "application/vnd.plotly.v1+json": {
       "config": {
        "plotlyServerURL": "https://plot.ly"
       },
       "data": [
        {
         "hoverinfo": "none",
         "line": {
          "color": "#888",
          "width": 0.5
         },
         "mode": "lines",
         "type": "scatter",
         "x": [
          0.3723581988234053,
          0.8355598376922742,
          null,
          0.3723581988234053,
          0.8355063860271702,
          null,
          0.3723581988234053,
          -0.03746679728001161,
          null,
          0.3723581988234053,
          0.23808730166226122,
          null,
          0.3723581988234053,
          0.012519419086044833,
          null,
          0.3723581988234053,
          0.6019433396025264,
          null,
          0.3723581988234053,
          -0.010576893297885892,
          null,
          0.3723581988234053,
          -0.010523667272862362,
          null,
          0.3723581988234053,
          0.5921375734997576,
          null,
          0.3723581988234053,
          -0.010136939903648971,
          null,
          -0.03746679728001161,
          -0.3553940498848283,
          null,
          -0.03746679728001161,
          -0.35549637317198995,
          null,
          -0.03746679728001161,
          -0.3555989646198463,
          null,
          -0.03746679728001161,
          -0.3556982240103224,
          null,
          -0.03746679728001161,
          -0.3557890533580821,
          null,
          -0.03746679728001161,
          -0.3558645504533158,
          null,
          -0.03746679728001161,
          -0.3559179123387847,
          null,
          -0.03746679728001161,
          -0.3559425960813998,
          null,
          0.23808730166226122,
          -0.12777124766221928,
          null,
          0.23808730166226122,
          -0.12776246251222384,
          null,
          0.23808730166226122,
          -0.12775276992797366,
          null,
          0.23808730166226122,
          -0.12774239411629593,
          null,
          0.23808730166226122,
          -0.12773171178902,
          null,
          0.23808730166226122,
          -0.12772298797567624,
          null,
          0.23808730166226122,
          -0.12771766565256618,
          null,
          0.23808730166226122,
          -0.12771741621543442,
          null,
          0.23808730166226122,
          -0.12772267191856762,
          null,
          0.23808730166226122,
          -0.12773133867894218,
          null,
          0.23808730166226122,
          -0.1277362915103435,
          null,
          0.23808730166226122,
          0.3723581988234053,
          null,
          0.23808730166226122,
          -0.1277423265521049,
          null,
          0.23808730166226122,
          -0.12773672308438364,
          null,
          0.23808730166226122,
          -0.12764998525733504,
          null,
          0.23808730166226122,
          -0.12748867362018823,
          null,
          0.23808730166226122,
          -0.12745576754183316,
          null,
          0.23808730166226122,
          -0.12747831131618767,
          null,
          0.23808730166226122,
          -0.1275115133698728,
          null,
          0.23808730166226122,
          -0.12753708020283133,
          null,
          0.23808730166226122,
          -0.1275473993233331,
          null,
          0.23808730166226122,
          -0.12754987673473142,
          null,
          0.23808730166226122,
          -0.12754571423110939,
          null,
          0.23808730166226122,
          -0.1275392600388723,
          null,
          0.23808730166226122,
          -0.1275456027289916,
          null,
          0.23808730166226122,
          -0.1275533571215185,
          null,
          0.23808730166226122,
          -0.1275532517976425,
          null,
          0.23808730166226122,
          -0.12754964047143588,
          null,
          0.23808730166226122,
          -0.12753751639020777,
          null,
          0.012519419086044833,
          -0.03746679728001161,
          null,
          0.6019433396025264,
          1,
          null,
          0.6019433396025264,
          0.999972676351912,
          null,
          0.6019433396025264,
          0.3723581988234053,
          null,
          0.6019433396025264,
          0.23808730166226122,
          null,
          0.6019433396025264,
          0.9999522466694689,
          null,
          0.5921375734997576,
          0.3723581988234053,
          null
         ],
         "y": [
          0.26859893754442127,
          0.2741316748872784,
          null,
          0.26859893754442127,
          0.27386888918917546,
          null,
          0.26859893754442127,
          0.45832312204095266,
          null,
          0.26859893754442127,
          -0.18421426513458344,
          null,
          0.26859893754442127,
          0.08884026235806636,
          null,
          0.26859893754442127,
          -0.09190546324882765,
          null,
          0.26859893754442127,
          0.40581989065452084,
          null,
          0.26859893754442127,
          0.40597144195578644,
          null,
          0.26859893754442127,
          0.6331576682523721,
          null,
          0.26859893754442127,
          0.4070414406334663,
          null,
          0.45832312204095266,
          0.6746188383617227,
          null,
          0.45832312204095266,
          0.6745121106968252,
          null,
          0.45832312204095266,
          0.6744046507564678,
          null,
          0.45832312204095266,
          0.6742996578954092,
          null,
          0.45832312204095266,
          0.6742018070911423,
          null,
          0.45832312204095266,
          0.6741169064597136,
          null,
          0.45832312204095266,
          0.6740540106613926,
          null,
          0.45832312204095266,
          0.6740225600760272,
          null,
          -0.18421426513458344,
          -0.27359467536531185,
          null,
          -0.18421426513458344,
          -0.2735872484728255,
          null,
          -0.18421426513458344,
          -0.27358047782701966,
          null,
          -0.18421426513458344,
          -0.2735758292801155,
          null,
          -0.18421426513458344,
          -0.27357641163657437,
          null,
          -0.18421426513458344,
          -0.27357822496662304,
          null,
          -0.18421426513458344,
          -0.2735818530327507,
          null,
          -0.18421426513458344,
          -0.27358956484876173,
          null,
          -0.18421426513458344,
          -0.27360148031411435,
          null,
          -0.18421426513458344,
          -0.2736216804238372,
          null,
          -0.18421426513458344,
          -0.2736657091785055,
          null,
          -0.18421426513458344,
          0.26859893754442127,
          null,
          -0.18421426513458344,
          -0.27371489603917215,
          null,
          -0.18421426513458344,
          -0.2737795909720587,
          null,
          -0.18421426513458344,
          -0.27400290130608157,
          null,
          -0.18421426513458344,
          -0.2743521910547978,
          null,
          -0.18421426513458344,
          -0.2743625766713766,
          null,
          -0.18421426513458344,
          -0.2742615135000531,
          null,
          -0.18421426513458344,
          -0.2741540464473646,
          null,
          -0.18421426513458344,
          -0.2740746001787348,
          null,
          -0.18421426513458344,
          -0.27404250172006456,
          null,
          -0.18421426513458344,
          -0.2740369771635332,
          null,
          -0.18421426513458344,
          -0.27405504018273674,
          null,
          -0.18421426513458344,
          -0.27408303140094714,
          null,
          -0.18421426513458344,
          -0.27408069067389773,
          null,
          -0.18421426513458344,
          -0.2740699356095841,
          null,
          -0.18421426513458344,
          -0.27407307396190256,
          null,
          -0.18421426513458344,
          -0.2740714286059029,
          null,
          -0.18421426513458344,
          -0.27407285275043247,
          null,
          0.08884026235806636,
          0.45832312204095266,
          null,
          -0.09190546324882765,
          -0.22158422866528585,
          null,
          -0.09190546324882765,
          -0.22168298684834034,
          null,
          -0.09190546324882765,
          0.26859893754442127,
          null,
          -0.09190546324882765,
          -0.18421426513458344,
          null,
          -0.09190546324882765,
          -0.22175592203262234,
          null,
          0.6331576682523721,
          0.26859893754442127,
          null
         ]
        },
        {
         "hoverinfo": "text",
         "marker": {
          "color": [],
          "colorbar": {
           "thickness": 15,
           "title": {
            "side": "right",
            "text": "distance"
           },
           "xanchor": "left"
          },
          "colorscale": [
           [
            0,
            "rgb(255,255,217)"
           ],
           [
            0.125,
            "rgb(237,248,177)"
           ],
           [
            0.25,
            "rgb(199,233,180)"
           ],
           [
            0.375,
            "rgb(127,205,187)"
           ],
           [
            0.5,
            "rgb(65,182,196)"
           ],
           [
            0.625,
            "rgb(29,145,192)"
           ],
           [
            0.75,
            "rgb(34,94,168)"
           ],
           [
            0.875,
            "rgb(37,52,148)"
           ],
           [
            1,
            "rgb(8,29,88)"
           ]
          ],
          "line": {
           "width": 2
          },
          "reversescale": true,
          "showscale": true
         },
         "mode": "markers+text",
         "type": "scatter",
         "x": [
          0.3723581988234053,
          0.8355598376922742,
          0.8355063860271702,
          -0.03746679728001161,
          0.23808730166226122,
          0.012519419086044833,
          0.6019433396025264,
          -0.010576893297885892,
          -0.010523667272862362,
          0.5921375734997576,
          -0.010136939903648971,
          -0.3553940498848283,
          -0.35549637317198995,
          -0.3555989646198463,
          -0.3556982240103224,
          -0.3557890533580821,
          -0.3558645504533158,
          -0.3559179123387847,
          -0.3559425960813998,
          -0.12777124766221928,
          -0.12776246251222384,
          -0.12775276992797366,
          -0.12774239411629593,
          -0.12773171178902,
          -0.12772298797567624,
          -0.12771766565256618,
          -0.12771741621543442,
          -0.12772267191856762,
          -0.12773133867894218,
          -0.1277362915103435,
          -0.1277423265521049,
          -0.12773672308438364,
          -0.12764998525733504,
          -0.12748867362018823,
          -0.12745576754183316,
          -0.12747831131618767,
          -0.1275115133698728,
          -0.12753708020283133,
          -0.1275473993233331,
          -0.12754987673473142,
          -0.12754571423110939,
          -0.1275392600388723,
          -0.1275456027289916,
          -0.1275533571215185,
          -0.1275532517976425,
          -0.12754964047143588,
          -0.12753751639020777,
          1,
          0.999972676351912,
          0.9999522466694689
         ],
         "y": [
          0.26859893754442127,
          0.2741316748872784,
          0.27386888918917546,
          0.45832312204095266,
          -0.18421426513458344,
          0.08884026235806636,
          -0.09190546324882765,
          0.40581989065452084,
          0.40597144195578644,
          0.6331576682523721,
          0.4070414406334663,
          0.6746188383617227,
          0.6745121106968252,
          0.6744046507564678,
          0.6742996578954092,
          0.6742018070911423,
          0.6741169064597136,
          0.6740540106613926,
          0.6740225600760272,
          -0.27359467536531185,
          -0.2735872484728255,
          -0.27358047782701966,
          -0.2735758292801155,
          -0.27357641163657437,
          -0.27357822496662304,
          -0.2735818530327507,
          -0.27358956484876173,
          -0.27360148031411435,
          -0.2736216804238372,
          -0.2736657091785055,
          -0.27371489603917215,
          -0.2737795909720587,
          -0.27400290130608157,
          -0.2743521910547978,
          -0.2743625766713766,
          -0.2742615135000531,
          -0.2741540464473646,
          -0.2740746001787348,
          -0.27404250172006456,
          -0.2740369771635332,
          -0.27405504018273674,
          -0.27408303140094714,
          -0.27408069067389773,
          -0.2740699356095841,
          -0.27407307396190256,
          -0.2740714286059029,
          -0.27407285275043247,
          -0.22158422866528585,
          -0.22168298684834034,
          -0.22175592203262234
         ]
        }
       ],
       "layout": {
        "annotations": [
         {
          "showarrow": false,
          "text": "Size is log(Subscriber Count);<br>Color is distance",
          "x": 0.005,
          "xref": "paper",
          "y": -0.002,
          "yref": "paper"
         }
        ],
        "autosize": true,
        "hovermode": "closest",
        "margin": {
         "b": 20,
         "l": 5,
         "r": 5,
         "t": 40
        },
        "scene": {
         "aspectmode": "data"
        },
        "showlegend": false,
        "template": {
         "data": {
          "bar": [
           {
            "error_x": {
             "color": "#2a3f5f"
            },
            "error_y": {
             "color": "#2a3f5f"
            },
            "marker": {
             "line": {
              "color": "#E5ECF6",
              "width": 0.5
             }
            },
            "type": "bar"
           }
          ],
          "barpolar": [
           {
            "marker": {
             "line": {
              "color": "#E5ECF6",
              "width": 0.5
             }
            },
            "type": "barpolar"
           }
          ],
          "carpet": [
           {
            "aaxis": {
             "endlinecolor": "#2a3f5f",
             "gridcolor": "white",
             "linecolor": "white",
             "minorgridcolor": "white",
             "startlinecolor": "#2a3f5f"
            },
            "baxis": {
             "endlinecolor": "#2a3f5f",
             "gridcolor": "white",
             "linecolor": "white",
             "minorgridcolor": "white",
             "startlinecolor": "#2a3f5f"
            },
            "type": "carpet"
           }
          ],
          "choropleth": [
           {
            "colorbar": {
             "outlinewidth": 0,
             "ticks": ""
            },
            "type": "choropleth"
           }
          ],
          "contour": [
           {
            "colorbar": {
             "outlinewidth": 0,
             "ticks": ""
            },
            "colorscale": [
             [
              0,
              "#0d0887"
             ],
             [
              0.1111111111111111,
              "#46039f"
             ],
             [
              0.2222222222222222,
              "#7201a8"
             ],
             [
              0.3333333333333333,
              "#9c179e"
             ],
             [
              0.4444444444444444,
              "#bd3786"
             ],
             [
              0.5555555555555556,
              "#d8576b"
             ],
             [
              0.6666666666666666,
              "#ed7953"
             ],
             [
              0.7777777777777778,
              "#fb9f3a"
             ],
             [
              0.8888888888888888,
              "#fdca26"
             ],
             [
              1,
              "#f0f921"
             ]
            ],
            "type": "contour"
           }
          ],
          "contourcarpet": [
           {
            "colorbar": {
             "outlinewidth": 0,
             "ticks": ""
            },
            "type": "contourcarpet"
           }
          ],
          "heatmap": [
           {
            "colorbar": {
             "outlinewidth": 0,
             "ticks": ""
            },
            "colorscale": [
             [
              0,
              "#0d0887"
             ],
             [
              0.1111111111111111,
              "#46039f"
             ],
             [
              0.2222222222222222,
              "#7201a8"
             ],
             [
              0.3333333333333333,
              "#9c179e"
             ],
             [
              0.4444444444444444,
              "#bd3786"
             ],
             [
              0.5555555555555556,
              "#d8576b"
             ],
             [
              0.6666666666666666,
              "#ed7953"
             ],
             [
              0.7777777777777778,
              "#fb9f3a"
             ],
             [
              0.8888888888888888,
              "#fdca26"
             ],
             [
              1,
              "#f0f921"
             ]
            ],
            "type": "heatmap"
           }
          ],
          "heatmapgl": [
           {
            "colorbar": {
             "outlinewidth": 0,
             "ticks": ""
            },
            "colorscale": [
             [
              0,
              "#0d0887"
             ],
             [
              0.1111111111111111,
              "#46039f"
             ],
             [
              0.2222222222222222,
              "#7201a8"
             ],
             [
              0.3333333333333333,
              "#9c179e"
             ],
             [
              0.4444444444444444,
              "#bd3786"
             ],
             [
              0.5555555555555556,
              "#d8576b"
             ],
             [
              0.6666666666666666,
              "#ed7953"
             ],
             [
              0.7777777777777778,
              "#fb9f3a"
             ],
             [
              0.8888888888888888,
              "#fdca26"
             ],
             [
              1,
              "#f0f921"
             ]
            ],
            "type": "heatmapgl"
           }
          ],
          "histogram": [
           {
            "marker": {
             "colorbar": {
              "outlinewidth": 0,
              "ticks": ""
             }
            },
            "type": "histogram"
           }
          ],
          "histogram2d": [
           {
            "colorbar": {
             "outlinewidth": 0,
             "ticks": ""
            },
            "colorscale": [
             [
              0,
              "#0d0887"
             ],
             [
              0.1111111111111111,
              "#46039f"
             ],
             [
              0.2222222222222222,
              "#7201a8"
             ],
             [
              0.3333333333333333,
              "#9c179e"
             ],
             [
              0.4444444444444444,
              "#bd3786"
             ],
             [
              0.5555555555555556,
              "#d8576b"
             ],
             [
              0.6666666666666666,
              "#ed7953"
             ],
             [
              0.7777777777777778,
              "#fb9f3a"
             ],
             [
              0.8888888888888888,
              "#fdca26"
             ],
             [
              1,
              "#f0f921"
             ]
            ],
            "type": "histogram2d"
           }
          ],
          "histogram2dcontour": [
           {
            "colorbar": {
             "outlinewidth": 0,
             "ticks": ""
            },
            "colorscale": [
             [
              0,
              "#0d0887"
             ],
             [
              0.1111111111111111,
              "#46039f"
             ],
             [
              0.2222222222222222,
              "#7201a8"
             ],
             [
              0.3333333333333333,
              "#9c179e"
             ],
             [
              0.4444444444444444,
              "#bd3786"
             ],
             [
              0.5555555555555556,
              "#d8576b"
             ],
             [
              0.6666666666666666,
              "#ed7953"
             ],
             [
              0.7777777777777778,
              "#fb9f3a"
             ],
             [
              0.8888888888888888,
              "#fdca26"
             ],
             [
              1,
              "#f0f921"
             ]
            ],
            "type": "histogram2dcontour"
           }
          ],
          "mesh3d": [
           {
            "colorbar": {
             "outlinewidth": 0,
             "ticks": ""
            },
            "type": "mesh3d"
           }
          ],
          "parcoords": [
           {
            "line": {
             "colorbar": {
              "outlinewidth": 0,
              "ticks": ""
             }
            },
            "type": "parcoords"
           }
          ],
          "pie": [
           {
            "automargin": true,
            "type": "pie"
           }
          ],
          "scatter": [
           {
            "marker": {
             "colorbar": {
              "outlinewidth": 0,
              "ticks": ""
             }
            },
            "type": "scatter"
           }
          ],
          "scatter3d": [
           {
            "line": {
             "colorbar": {
              "outlinewidth": 0,
              "ticks": ""
             }
            },
            "marker": {
             "colorbar": {
              "outlinewidth": 0,
              "ticks": ""
             }
            },
            "type": "scatter3d"
           }
          ],
          "scattercarpet": [
           {
            "marker": {
             "colorbar": {
              "outlinewidth": 0,
              "ticks": ""
             }
            },
            "type": "scattercarpet"
           }
          ],
          "scattergeo": [
           {
            "marker": {
             "colorbar": {
              "outlinewidth": 0,
              "ticks": ""
             }
            },
            "type": "scattergeo"
           }
          ],
          "scattergl": [
           {
            "marker": {
             "colorbar": {
              "outlinewidth": 0,
              "ticks": ""
             }
            },
            "type": "scattergl"
           }
          ],
          "scattermapbox": [
           {
            "marker": {
             "colorbar": {
              "outlinewidth": 0,
              "ticks": ""
             }
            },
            "type": "scattermapbox"
           }
          ],
          "scatterpolar": [
           {
            "marker": {
             "colorbar": {
              "outlinewidth": 0,
              "ticks": ""
             }
            },
            "type": "scatterpolar"
           }
          ],
          "scatterpolargl": [
           {
            "marker": {
             "colorbar": {
              "outlinewidth": 0,
              "ticks": ""
             }
            },
            "type": "scatterpolargl"
           }
          ],
          "scatterternary": [
           {
            "marker": {
             "colorbar": {
              "outlinewidth": 0,
              "ticks": ""
             }
            },
            "type": "scatterternary"
           }
          ],
          "surface": [
           {
            "colorbar": {
             "outlinewidth": 0,
             "ticks": ""
            },
            "colorscale": [
             [
              0,
              "#0d0887"
             ],
             [
              0.1111111111111111,
              "#46039f"
             ],
             [
              0.2222222222222222,
              "#7201a8"
             ],
             [
              0.3333333333333333,
              "#9c179e"
             ],
             [
              0.4444444444444444,
              "#bd3786"
             ],
             [
              0.5555555555555556,
              "#d8576b"
             ],
             [
              0.6666666666666666,
              "#ed7953"
             ],
             [
              0.7777777777777778,
              "#fb9f3a"
             ],
             [
              0.8888888888888888,
              "#fdca26"
             ],
             [
              1,
              "#f0f921"
             ]
            ],
            "type": "surface"
           }
          ],
          "table": [
           {
            "cells": {
             "fill": {
              "color": "#EBF0F8"
             },
             "line": {
              "color": "white"
             }
            },
            "header": {
             "fill": {
              "color": "#C8D4E3"
             },
             "line": {
              "color": "white"
             }
            },
            "type": "table"
           }
          ]
         },
         "layout": {
          "annotationdefaults": {
           "arrowcolor": "#2a3f5f",
           "arrowhead": 0,
           "arrowwidth": 1
          },
          "coloraxis": {
           "colorbar": {
            "outlinewidth": 0,
            "ticks": ""
           }
          },
          "colorscale": {
           "diverging": [
            [
             0,
             "#8e0152"
            ],
            [
             0.1,
             "#c51b7d"
            ],
            [
             0.2,
             "#de77ae"
            ],
            [
             0.3,
             "#f1b6da"
            ],
            [
             0.4,
             "#fde0ef"
            ],
            [
             0.5,
             "#f7f7f7"
            ],
            [
             0.6,
             "#e6f5d0"
            ],
            [
             0.7,
             "#b8e186"
            ],
            [
             0.8,
             "#7fbc41"
            ],
            [
             0.9,
             "#4d9221"
            ],
            [
             1,
             "#276419"
            ]
           ],
           "sequential": [
            [
             0,
             "#0d0887"
            ],
            [
             0.1111111111111111,
             "#46039f"
            ],
            [
             0.2222222222222222,
             "#7201a8"
            ],
            [
             0.3333333333333333,
             "#9c179e"
            ],
            [
             0.4444444444444444,
             "#bd3786"
            ],
            [
             0.5555555555555556,
             "#d8576b"
            ],
            [
             0.6666666666666666,
             "#ed7953"
            ],
            [
             0.7777777777777778,
             "#fb9f3a"
            ],
            [
             0.8888888888888888,
             "#fdca26"
            ],
            [
             1,
             "#f0f921"
            ]
           ],
           "sequentialminus": [
            [
             0,
             "#0d0887"
            ],
            [
             0.1111111111111111,
             "#46039f"
            ],
            [
             0.2222222222222222,
             "#7201a8"
            ],
            [
             0.3333333333333333,
             "#9c179e"
            ],
            [
             0.4444444444444444,
             "#bd3786"
            ],
            [
             0.5555555555555556,
             "#d8576b"
            ],
            [
             0.6666666666666666,
             "#ed7953"
            ],
            [
             0.7777777777777778,
             "#fb9f3a"
            ],
            [
             0.8888888888888888,
             "#fdca26"
            ],
            [
             1,
             "#f0f921"
            ]
           ]
          },
          "colorway": [
           "#636efa",
           "#EF553B",
           "#00cc96",
           "#ab63fa",
           "#FFA15A",
           "#19d3f3",
           "#FF6692",
           "#B6E880",
           "#FF97FF",
           "#FECB52"
          ],
          "font": {
           "color": "#2a3f5f"
          },
          "geo": {
           "bgcolor": "white",
           "lakecolor": "white",
           "landcolor": "#E5ECF6",
           "showlakes": true,
           "showland": true,
           "subunitcolor": "white"
          },
          "hoverlabel": {
           "align": "left"
          },
          "hovermode": "closest",
          "mapbox": {
           "style": "light"
          },
          "paper_bgcolor": "white",
          "plot_bgcolor": "#E5ECF6",
          "polar": {
           "angularaxis": {
            "gridcolor": "white",
            "linecolor": "white",
            "ticks": ""
           },
           "bgcolor": "#E5ECF6",
           "radialaxis": {
            "gridcolor": "white",
            "linecolor": "white",
            "ticks": ""
           }
          },
          "scene": {
           "xaxis": {
            "backgroundcolor": "#E5ECF6",
            "gridcolor": "white",
            "gridwidth": 2,
            "linecolor": "white",
            "showbackground": true,
            "ticks": "",
            "zerolinecolor": "white"
           },
           "yaxis": {
            "backgroundcolor": "#E5ECF6",
            "gridcolor": "white",
            "gridwidth": 2,
            "linecolor": "white",
            "showbackground": true,
            "ticks": "",
            "zerolinecolor": "white"
           },
           "zaxis": {
            "backgroundcolor": "#E5ECF6",
            "gridcolor": "white",
            "gridwidth": 2,
            "linecolor": "white",
            "showbackground": true,
            "ticks": "",
            "zerolinecolor": "white"
           }
          },
          "shapedefaults": {
           "line": {
            "color": "#2a3f5f"
           }
          },
          "ternary": {
           "aaxis": {
            "gridcolor": "white",
            "linecolor": "white",
            "ticks": ""
           },
           "baxis": {
            "gridcolor": "white",
            "linecolor": "white",
            "ticks": ""
           },
           "bgcolor": "#E5ECF6",
           "caxis": {
            "gridcolor": "white",
            "linecolor": "white",
            "ticks": ""
           }
          },
          "title": {
           "x": 0.05
          },
          "xaxis": {
           "automargin": true,
           "gridcolor": "white",
           "linecolor": "white",
           "ticks": "",
           "title": {
            "standoff": 15
           },
           "zerolinecolor": "white",
           "zerolinewidth": 2
          },
          "yaxis": {
           "automargin": true,
           "gridcolor": "white",
           "linecolor": "white",
           "ticks": "",
           "title": {
            "standoff": 15
           },
           "zerolinecolor": "white",
           "zerolinewidth": 2
          }
         }
        },
        "title": {
         "font": {
          "size": 16
         },
         "text": "Graph of Featured Channels"
        },
        "xaxis": {
         "autorange": true,
         "range": [
          -0.442489259698666,
          1.0865466636172663
         ],
         "showgrid": false,
         "showticklabels": false,
         "type": "linear",
         "zeroline": false
        },
        "yaxis": {
         "autorange": true,
         "range": [
          -0.33620507949648626,
          0.7364613411868324
         ],
         "showgrid": false,
         "showticklabels": false,
         "type": "linear",
         "zeroline": false
        }
       }
      },
      "image/png": "[encoded data removed]",
      "text/html": [
       "<div>\n",
       "        \n",
       "        \n",
       "            <div id=\"2c445f75-d3a4-4c9f-a5e2-10c983a236a2\" class=\"plotly-graph-div\" style=\"height:550px; width:100%;\"></div>\n",
       "            <script type=\"text/javascript\">\n",
       "                require([\"plotly\"], function(Plotly) {\n",
       "                    window.PLOTLYENV=window.PLOTLYENV || {};\n",
       "                    \n",
       "                if (document.getElementById(\"2c445f75-d3a4-4c9f-a5e2-10c983a236a2\")) {\n",
       "                    Plotly.newPlot(\n",
       "                        '2c445f75-d3a4-4c9f-a5e2-10c983a236a2',\n",
       "                        [{\"hoverinfo\": \"none\", \"line\": {\"color\": \"#888\", \"width\": 0.5}, \"mode\": \"lines\", \"type\": \"scatter\", \"x\": [0.3723581988234053, 0.8355598376922742, null, 0.3723581988234053, 0.8355063860271702, null, 0.3723581988234053, -0.03746679728001161, null, 0.3723581988234053, 0.23808730166226122, null, 0.3723581988234053, 0.012519419086044833, null, 0.3723581988234053, 0.6019433396025264, null, 0.3723581988234053, -0.010576893297885892, null, 0.3723581988234053, -0.010523667272862362, null, 0.3723581988234053, 0.5921375734997576, null, 0.3723581988234053, -0.010136939903648971, null, -0.03746679728001161, -0.3553940498848283, null, -0.03746679728001161, -0.35549637317198995, null, -0.03746679728001161, -0.3555989646198463, null, -0.03746679728001161, -0.3556982240103224, null, -0.03746679728001161, -0.3557890533580821, null, -0.03746679728001161, -0.3558645504533158, null, -0.03746679728001161, -0.3559179123387847, null, -0.03746679728001161, -0.3559425960813998, null, 0.23808730166226122, -0.12777124766221928, null, 0.23808730166226122, -0.12776246251222384, null, 0.23808730166226122, -0.12775276992797366, null, 0.23808730166226122, -0.12774239411629593, null, 0.23808730166226122, -0.12773171178902, null, 0.23808730166226122, -0.12772298797567624, null, 0.23808730166226122, -0.12771766565256618, null, 0.23808730166226122, -0.12771741621543442, null, 0.23808730166226122, -0.12772267191856762, null, 0.23808730166226122, -0.12773133867894218, null, 0.23808730166226122, -0.1277362915103435, null, 0.23808730166226122, 0.3723581988234053, null, 0.23808730166226122, -0.1277423265521049, null, 0.23808730166226122, -0.12773672308438364, null, 0.23808730166226122, -0.12764998525733504, null, 0.23808730166226122, -0.12748867362018823, null, 0.23808730166226122, -0.12745576754183316, null, 0.23808730166226122, -0.12747831131618767, null, 0.23808730166226122, -0.1275115133698728, null, 0.23808730166226122, -0.12753708020283133, null, 0.23808730166226122, -0.1275473993233331, null, 0.23808730166226122, -0.12754987673473142, null, 0.23808730166226122, -0.12754571423110939, null, 0.23808730166226122, -0.1275392600388723, null, 0.23808730166226122, -0.1275456027289916, null, 0.23808730166226122, -0.1275533571215185, null, 0.23808730166226122, -0.1275532517976425, null, 0.23808730166226122, -0.12754964047143588, null, 0.23808730166226122, -0.12753751639020777, null, 0.012519419086044833, -0.03746679728001161, null, 0.6019433396025264, 1.0, null, 0.6019433396025264, 0.999972676351912, null, 0.6019433396025264, 0.3723581988234053, null, 0.6019433396025264, 0.23808730166226122, null, 0.6019433396025264, 0.9999522466694689, null, 0.5921375734997576, 0.3723581988234053, null], \"y\": [0.26859893754442127, 0.2741316748872784, null, 0.26859893754442127, 0.27386888918917546, null, 0.26859893754442127, 0.45832312204095266, null, 0.26859893754442127, -0.18421426513458344, null, 0.26859893754442127, 0.08884026235806636, null, 0.26859893754442127, -0.09190546324882765, null, 0.26859893754442127, 0.40581989065452084, null, 0.26859893754442127, 0.40597144195578644, null, 0.26859893754442127, 0.6331576682523721, null, 0.26859893754442127, 0.4070414406334663, null, 0.45832312204095266, 0.6746188383617227, null, 0.45832312204095266, 0.6745121106968252, null, 0.45832312204095266, 0.6744046507564678, null, 0.45832312204095266, 0.6742996578954092, null, 0.45832312204095266, 0.6742018070911423, null, 0.45832312204095266, 0.6741169064597136, null, 0.45832312204095266, 0.6740540106613926, null, 0.45832312204095266, 0.6740225600760272, null, -0.18421426513458344, -0.27359467536531185, null, -0.18421426513458344, -0.2735872484728255, null, -0.18421426513458344, -0.27358047782701966, null, -0.18421426513458344, -0.2735758292801155, null, -0.18421426513458344, -0.27357641163657437, null, -0.18421426513458344, -0.27357822496662304, null, -0.18421426513458344, -0.2735818530327507, null, -0.18421426513458344, -0.27358956484876173, null, -0.18421426513458344, -0.27360148031411435, null, -0.18421426513458344, -0.2736216804238372, null, -0.18421426513458344, -0.2736657091785055, null, -0.18421426513458344, 0.26859893754442127, null, -0.18421426513458344, -0.27371489603917215, null, -0.18421426513458344, -0.2737795909720587, null, -0.18421426513458344, -0.27400290130608157, null, -0.18421426513458344, -0.2743521910547978, null, -0.18421426513458344, -0.2743625766713766, null, -0.18421426513458344, -0.2742615135000531, null, -0.18421426513458344, -0.2741540464473646, null, -0.18421426513458344, -0.2740746001787348, null, -0.18421426513458344, -0.27404250172006456, null, -0.18421426513458344, -0.2740369771635332, null, -0.18421426513458344, -0.27405504018273674, null, -0.18421426513458344, -0.27408303140094714, null, -0.18421426513458344, -0.27408069067389773, null, -0.18421426513458344, -0.2740699356095841, null, -0.18421426513458344, -0.27407307396190256, null, -0.18421426513458344, -0.2740714286059029, null, -0.18421426513458344, -0.27407285275043247, null, 0.08884026235806636, 0.45832312204095266, null, -0.09190546324882765, -0.22158422866528585, null, -0.09190546324882765, -0.22168298684834034, null, -0.09190546324882765, 0.26859893754442127, null, -0.09190546324882765, -0.18421426513458344, null, -0.09190546324882765, -0.22175592203262234, null, 0.6331576682523721, 0.26859893754442127, null]}, {\"hoverinfo\": \"text\", \"marker\": {\"color\": [], \"colorbar\": {\"thickness\": 15, \"title\": {\"side\": \"right\", \"text\": \"distance\"}, \"xanchor\": \"left\"}, \"colorscale\": [[0.0, \"rgb(255,255,217)\"], [0.125, \"rgb(237,248,177)\"], [0.25, \"rgb(199,233,180)\"], [0.375, \"rgb(127,205,187)\"], [0.5, \"rgb(65,182,196)\"], [0.625, \"rgb(29,145,192)\"], [0.75, \"rgb(34,94,168)\"], [0.875, \"rgb(37,52,148)\"], [1.0, \"rgb(8,29,88)\"]], \"line\": {\"width\": 2}, \"reversescale\": true, \"showscale\": true}, \"mode\": \"markers+text\", \"type\": \"scatter\", \"x\": [0.3723581988234053, 0.8355598376922742, 0.8355063860271702, -0.03746679728001161, 0.23808730166226122, 0.012519419086044833, 0.6019433396025264, -0.010576893297885892, -0.010523667272862362, 0.5921375734997576, -0.010136939903648971, -0.3553940498848283, -0.35549637317198995, -0.3555989646198463, -0.3556982240103224, -0.3557890533580821, -0.3558645504533158, -0.3559179123387847, -0.3559425960813998, -0.12777124766221928, -0.12776246251222384, -0.12775276992797366, -0.12774239411629593, -0.12773171178902, -0.12772298797567624, -0.12771766565256618, -0.12771741621543442, -0.12772267191856762, -0.12773133867894218, -0.1277362915103435, -0.1277423265521049, -0.12773672308438364, -0.12764998525733504, -0.12748867362018823, -0.12745576754183316, -0.12747831131618767, -0.1275115133698728, -0.12753708020283133, -0.1275473993233331, -0.12754987673473142, -0.12754571423110939, -0.1275392600388723, -0.1275456027289916, -0.1275533571215185, -0.1275532517976425, -0.12754964047143588, -0.12753751639020777, 1.0, 0.999972676351912, 0.9999522466694689], \"y\": [0.26859893754442127, 0.2741316748872784, 0.27386888918917546, 0.45832312204095266, -0.18421426513458344, 0.08884026235806636, -0.09190546324882765, 0.40581989065452084, 0.40597144195578644, 0.6331576682523721, 0.4070414406334663, 0.6746188383617227, 0.6745121106968252, 0.6744046507564678, 0.6742996578954092, 0.6742018070911423, 0.6741169064597136, 0.6740540106613926, 0.6740225600760272, -0.27359467536531185, -0.2735872484728255, -0.27358047782701966, -0.2735758292801155, -0.27357641163657437, -0.27357822496662304, -0.2735818530327507, -0.27358956484876173, -0.27360148031411435, -0.2736216804238372, -0.2736657091785055, -0.27371489603917215, -0.2737795909720587, -0.27400290130608157, -0.2743521910547978, -0.2743625766713766, -0.2742615135000531, -0.2741540464473646, -0.2740746001787348, -0.27404250172006456, -0.2740369771635332, -0.27405504018273674, -0.27408303140094714, -0.27408069067389773, -0.2740699356095841, -0.27407307396190256, -0.2740714286059029, -0.27407285275043247, -0.22158422866528585, -0.22168298684834034, -0.22175592203262234]}],\n",
       "                        {\"annotations\": [{\"showarrow\": false, \"text\": \"Size is log(Subscriber Count);<br>Color is distance\", \"x\": 0.005, \"xref\": \"paper\", \"y\": -0.002, \"yref\": \"paper\"}], \"autosize\": true, \"height\": 550, \"hovermode\": \"closest\", \"margin\": {\"b\": 20, \"l\": 5, \"r\": 5, \"t\": 40}, \"scene\": {\"aspectmode\": \"data\"}, \"showlegend\": false, \"template\": {\"data\": {\"bar\": [{\"error_x\": {\"color\": \"#2a3f5f\"}, \"error_y\": {\"color\": \"#2a3f5f\"}, \"marker\": {\"line\": {\"color\": \"#E5ECF6\", \"width\": 0.5}}, \"type\": \"bar\"}], \"barpolar\": [{\"marker\": {\"line\": {\"color\": \"#E5ECF6\", \"width\": 0.5}}, \"type\": \"barpolar\"}], \"carpet\": [{\"aaxis\": {\"endlinecolor\": \"#2a3f5f\", \"gridcolor\": \"white\", \"linecolor\": \"white\", \"minorgridcolor\": \"white\", \"startlinecolor\": \"#2a3f5f\"}, \"baxis\": {\"endlinecolor\": \"#2a3f5f\", \"gridcolor\": \"white\", \"linecolor\": \"white\", \"minorgridcolor\": \"white\", \"startlinecolor\": \"#2a3f5f\"}, \"type\": \"carpet\"}], \"choropleth\": [{\"colorbar\": {\"outlinewidth\": 0, \"ticks\": \"\"}, \"type\": \"choropleth\"}], \"contour\": [{\"colorbar\": {\"outlinewidth\": 0, \"ticks\": \"\"}, \"colorscale\": [[0.0, \"#0d0887\"], [0.1111111111111111, \"#46039f\"], [0.2222222222222222, \"#7201a8\"], [0.3333333333333333, \"#9c179e\"], [0.4444444444444444, \"#bd3786\"], [0.5555555555555556, \"#d8576b\"], [0.6666666666666666, \"#ed7953\"], [0.7777777777777778, \"#fb9f3a\"], [0.8888888888888888, \"#fdca26\"], [1.0, \"#f0f921\"]], \"type\": \"contour\"}], \"contourcarpet\": [{\"colorbar\": {\"outlinewidth\": 0, \"ticks\": \"\"}, \"type\": \"contourcarpet\"}], \"heatmap\": [{\"colorbar\": {\"outlinewidth\": 0, \"ticks\": \"\"}, \"colorscale\": [[0.0, \"#0d0887\"], [0.1111111111111111, \"#46039f\"], [0.2222222222222222, \"#7201a8\"], [0.3333333333333333, \"#9c179e\"], [0.4444444444444444, \"#bd3786\"], [0.5555555555555556, \"#d8576b\"], [0.6666666666666666, \"#ed7953\"], [0.7777777777777778, \"#fb9f3a\"], [0.8888888888888888, \"#fdca26\"], [1.0, \"#f0f921\"]], \"type\": \"heatmap\"}], \"heatmapgl\": [{\"colorbar\": {\"outlinewidth\": 0, \"ticks\": \"\"}, \"colorscale\": [[0.0, \"#0d0887\"], [0.1111111111111111, \"#46039f\"], [0.2222222222222222, \"#7201a8\"], [0.3333333333333333, \"#9c179e\"], [0.4444444444444444, \"#bd3786\"], [0.5555555555555556, \"#d8576b\"], [0.6666666666666666, \"#ed7953\"], [0.7777777777777778, \"#fb9f3a\"], [0.8888888888888888, \"#fdca26\"], [1.0, \"#f0f921\"]], \"type\": \"heatmapgl\"}], \"histogram\": [{\"marker\": {\"colorbar\": {\"outlinewidth\": 0, \"ticks\": \"\"}}, \"type\": \"histogram\"}], \"histogram2d\": [{\"colorbar\": {\"outlinewidth\": 0, \"ticks\": \"\"}, \"colorscale\": [[0.0, \"#0d0887\"], [0.1111111111111111, \"#46039f\"], [0.2222222222222222, \"#7201a8\"], [0.3333333333333333, \"#9c179e\"], [0.4444444444444444, \"#bd3786\"], [0.5555555555555556, \"#d8576b\"], [0.6666666666666666, \"#ed7953\"], [0.7777777777777778, \"#fb9f3a\"], [0.8888888888888888, \"#fdca26\"], [1.0, \"#f0f921\"]], \"type\": \"histogram2d\"}], \"histogram2dcontour\": [{\"colorbar\": {\"outlinewidth\": 0, \"ticks\": \"\"}, \"colorscale\": [[0.0, \"#0d0887\"], [0.1111111111111111, \"#46039f\"], [0.2222222222222222, \"#7201a8\"], [0.3333333333333333, \"#9c179e\"], [0.4444444444444444, \"#bd3786\"], [0.5555555555555556, \"#d8576b\"], [0.6666666666666666, \"#ed7953\"], [0.7777777777777778, \"#fb9f3a\"], [0.8888888888888888, \"#fdca26\"], [1.0, \"#f0f921\"]], \"type\": \"histogram2dcontour\"}], \"mesh3d\": [{\"colorbar\": {\"outlinewidth\": 0, \"ticks\": \"\"}, \"type\": \"mesh3d\"}], \"parcoords\": [{\"line\": {\"colorbar\": {\"outlinewidth\": 0, \"ticks\": \"\"}}, \"type\": \"parcoords\"}], \"pie\": [{\"automargin\": true, \"type\": \"pie\"}], \"scatter\": [{\"marker\": {\"colorbar\": {\"outlinewidth\": 0, \"ticks\": \"\"}}, \"type\": \"scatter\"}], \"scatter3d\": [{\"line\": {\"colorbar\": {\"outlinewidth\": 0, \"ticks\": \"\"}}, \"marker\": {\"colorbar\": {\"outlinewidth\": 0, \"ticks\": \"\"}}, \"type\": \"scatter3d\"}], \"scattercarpet\": [{\"marker\": {\"colorbar\": {\"outlinewidth\": 0, \"ticks\": \"\"}}, \"type\": \"scattercarpet\"}], \"scattergeo\": [{\"marker\": {\"colorbar\": {\"outlinewidth\": 0, \"ticks\": \"\"}}, \"type\": \"scattergeo\"}], \"scattergl\": [{\"marker\": {\"colorbar\": {\"outlinewidth\": 0, \"ticks\": \"\"}}, \"type\": \"scattergl\"}], \"scattermapbox\": [{\"marker\": {\"colorbar\": {\"outlinewidth\": 0, \"ticks\": \"\"}}, \"type\": \"scattermapbox\"}], \"scatterpolar\": [{\"marker\": {\"colorbar\": {\"outlinewidth\": 0, \"ticks\": \"\"}}, \"type\": \"scatterpolar\"}], \"scatterpolargl\": [{\"marker\": {\"colorbar\": {\"outlinewidth\": 0, \"ticks\": \"\"}}, \"type\": \"scatterpolargl\"}], \"scatterternary\": [{\"marker\": {\"colorbar\": {\"outlinewidth\": 0, \"ticks\": \"\"}}, \"type\": \"scatterternary\"}], \"surface\": [{\"colorbar\": {\"outlinewidth\": 0, \"ticks\": \"\"}, \"colorscale\": [[0.0, \"#0d0887\"], [0.1111111111111111, \"#46039f\"], [0.2222222222222222, \"#7201a8\"], [0.3333333333333333, \"#9c179e\"], [0.4444444444444444, \"#bd3786\"], [0.5555555555555556, \"#d8576b\"], [0.6666666666666666, \"#ed7953\"], [0.7777777777777778, \"#fb9f3a\"], [0.8888888888888888, \"#fdca26\"], [1.0, \"#f0f921\"]], \"type\": \"surface\"}], \"table\": [{\"cells\": {\"fill\": {\"color\": \"#EBF0F8\"}, \"line\": {\"color\": \"white\"}}, \"header\": {\"fill\": {\"color\": \"#C8D4E3\"}, \"line\": {\"color\": \"white\"}}, \"type\": \"table\"}]}, \"layout\": {\"annotationdefaults\": {\"arrowcolor\": \"#2a3f5f\", \"arrowhead\": 0, \"arrowwidth\": 1}, \"coloraxis\": {\"colorbar\": {\"outlinewidth\": 0, \"ticks\": \"\"}}, \"colorscale\": {\"diverging\": [[0, \"#8e0152\"], [0.1, \"#c51b7d\"], [0.2, \"#de77ae\"], [0.3, \"#f1b6da\"], [0.4, \"#fde0ef\"], [0.5, \"#f7f7f7\"], [0.6, \"#e6f5d0\"], [0.7, \"#b8e186\"], [0.8, \"#7fbc41\"], [0.9, \"#4d9221\"], [1, \"#276419\"]], \"sequential\": [[0.0, \"#0d0887\"], [0.1111111111111111, \"#46039f\"], [0.2222222222222222, \"#7201a8\"], [0.3333333333333333, \"#9c179e\"], [0.4444444444444444, \"#bd3786\"], [0.5555555555555556, \"#d8576b\"], [0.6666666666666666, \"#ed7953\"], [0.7777777777777778, \"#fb9f3a\"], [0.8888888888888888, \"#fdca26\"], [1.0, \"#f0f921\"]], \"sequentialminus\": [[0.0, \"#0d0887\"], [0.1111111111111111, \"#46039f\"], [0.2222222222222222, \"#7201a8\"], [0.3333333333333333, \"#9c179e\"], [0.4444444444444444, \"#bd3786\"], [0.5555555555555556, \"#d8576b\"], [0.6666666666666666, \"#ed7953\"], [0.7777777777777778, \"#fb9f3a\"], [0.8888888888888888, \"#fdca26\"], [1.0, \"#f0f921\"]]}, \"colorway\": [\"#636efa\", \"#EF553B\", \"#00cc96\", \"#ab63fa\", \"#FFA15A\", \"#19d3f3\", \"#FF6692\", \"#B6E880\", \"#FF97FF\", \"#FECB52\"], \"font\": {\"color\": \"#2a3f5f\"}, \"geo\": {\"bgcolor\": \"white\", \"lakecolor\": \"white\", \"landcolor\": \"#E5ECF6\", \"showlakes\": true, \"showland\": true, \"subunitcolor\": \"white\"}, \"hoverlabel\": {\"align\": \"left\"}, \"hovermode\": \"closest\", \"mapbox\": {\"style\": \"light\"}, \"paper_bgcolor\": \"white\", \"plot_bgcolor\": \"#E5ECF6\", \"polar\": {\"angularaxis\": {\"gridcolor\": \"white\", \"linecolor\": \"white\", \"ticks\": \"\"}, \"bgcolor\": \"#E5ECF6\", \"radialaxis\": {\"gridcolor\": \"white\", \"linecolor\": \"white\", \"ticks\": \"\"}}, \"scene\": {\"xaxis\": {\"backgroundcolor\": \"#E5ECF6\", \"gridcolor\": \"white\", \"gridwidth\": 2, \"linecolor\": \"white\", \"showbackground\": true, \"ticks\": \"\", \"zerolinecolor\": \"white\"}, \"yaxis\": {\"backgroundcolor\": \"#E5ECF6\", \"gridcolor\": \"white\", \"gridwidth\": 2, \"linecolor\": \"white\", \"showbackground\": true, \"ticks\": \"\", \"zerolinecolor\": \"white\"}, \"zaxis\": {\"backgroundcolor\": \"#E5ECF6\", \"gridcolor\": \"white\", \"gridwidth\": 2, \"linecolor\": \"white\", \"showbackground\": true, \"ticks\": \"\", \"zerolinecolor\": \"white\"}}, \"shapedefaults\": {\"line\": {\"color\": \"#2a3f5f\"}}, \"ternary\": {\"aaxis\": {\"gridcolor\": \"white\", \"linecolor\": \"white\", \"ticks\": \"\"}, \"baxis\": {\"gridcolor\": \"white\", \"linecolor\": \"white\", \"ticks\": \"\"}, \"bgcolor\": \"#E5ECF6\", \"caxis\": {\"gridcolor\": \"white\", \"linecolor\": \"white\", \"ticks\": \"\"}}, \"title\": {\"x\": 0.05}, \"xaxis\": {\"automargin\": true, \"gridcolor\": \"white\", \"linecolor\": \"white\", \"ticks\": \"\", \"title\": {\"standoff\": 15}, \"zerolinecolor\": \"white\", \"zerolinewidth\": 2}, \"yaxis\": {\"automargin\": true, \"gridcolor\": \"white\", \"linecolor\": \"white\", \"ticks\": \"\", \"title\": {\"standoff\": 15}, \"zerolinecolor\": \"white\", \"zerolinewidth\": 2}}}, \"title\": {\"font\": {\"size\": 16}, \"text\": \"Graph of Featured Channels\"}, \"xaxis\": {\"showgrid\": false, \"showticklabels\": false, \"zeroline\": false}, \"yaxis\": {\"showgrid\": false, \"showticklabels\": false, \"zeroline\": false}},\n",
       "                        {\"responsive\": true}\n",
       "                    ).then(function(){\n",
       "                            \n",
       "var gd = document.getElementById('2c445f75-d3a4-4c9f-a5e2-10c983a236a2');\n",
       "var x = new MutationObserver(function (mutations, observer) {{\n",
       "        var display = window.getComputedStyle(gd).display;\n",
       "        if (!display || display === 'none') {{\n",
       "            console.log([gd, 'removed!']);\n",
       "            Plotly.purge(gd);\n",
       "            observer.disconnect();\n",
       "        }}\n",
       "}});\n",
       "\n",
       "// Listen for the removal of the full notebook cells\n",
       "var notebookContainer = gd.closest('#notebook-container');\n",
       "if (notebookContainer) {{\n",
       "    x.observe(notebookContainer, {childList: true});\n",
       "}}\n",
       "\n",
       "// Listen for the clearing of the current output cell\n",
       "var outputEl = gd.closest('.output');\n",
       "if (outputEl) {{\n",
       "    x.observe(outputEl, {childList: true});\n",
       "}}\n",
       "\n",
       "                        })\n",
       "                };\n",
       "                });\n",
       "            </script>\n",
       "        </div>"
      ]
     },
     "metadata": {},
     "output_type": "display_data"
    }
   ],
   "source": [
    "plotting.plotly_network_graph(G, color_setting = 'distance')"
   ]
  },
  {
   "cell_type": "code",
   "execution_count": null,
   "metadata": {},
   "outputs": [],
   "source": [
    "## Testing to create generate_user_details_dict function\n",
    "\n",
    "users_list = []\n",
    "\n",
    "user_details_dict = github_request('danovad')\n",
    "#user_following_list = github_request('danovad', endpoint = 'following')\n",
    "user_details_dict['following'] = [user['login'] for user in github_request('danovad', endpoint = 'following')]\n",
    "\n",
    "users_list.append(user_details_dict)"
   ]
  },
  {
   "cell_type": "code",
   "execution_count": null,
   "metadata": {},
   "outputs": [],
   "source": []
  },
  {
   "cell_type": "code",
   "execution_count": null,
   "metadata": {},
   "outputs": [],
   "source": [
    "features = ['login','id','type','followers','following','public_repos','bio','updated_at','created_at']"
   ]
  },
  {
   "cell_type": "code",
   "execution_count": null,
   "metadata": {},
   "outputs": [],
   "source": []
  }
 ],
 "metadata": {
  "kernelspec": {
   "display_name": "Python 3",
   "language": "python",
   "name": "python3"
  },
  "language_info": {
   "codemirror_mode": {
    "name": "ipython",
    "version": 3
   },
   "file_extension": ".py",
   "mimetype": "text/x-python",
   "name": "python",
   "nbconvert_exporter": "python",
   "pygments_lexer": "ipython3",
   "version": "3.7.7"
  }
 },
 "nbformat": 4,
 "nbformat_minor": 4
}
